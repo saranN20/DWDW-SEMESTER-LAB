{
 "cells": [
  {
   "cell_type": "code",
   "execution_count": 1,
   "metadata": {},
   "outputs": [],
   "source": [
    "#import dataset\n",
    "import pandas as pd\n",
    "import numpy as np\n",
    "from sklearn.model_selection import train_test_split\n",
    "from sklearn.naive_bayes import GaussianNB\n",
    "from sklearn.metrics import accuracy_score\n",
    "import matplotlib.pyplot as plt \n",
    "from sklearn.metrics import confusion_matrix"
   ]
  },
  {
   "cell_type": "code",
   "execution_count": 2,
   "metadata": {},
   "outputs": [],
   "source": [
    "#loading the dataset\n",
    "d=pd.read_csv(\"diabetes.csv\")"
   ]
  },
  {
   "cell_type": "code",
   "execution_count": 3,
   "metadata": {},
   "outputs": [
    {
     "data": {
      "text/html": [
       "<div>\n",
       "<style scoped>\n",
       "    .dataframe tbody tr th:only-of-type {\n",
       "        vertical-align: middle;\n",
       "    }\n",
       "\n",
       "    .dataframe tbody tr th {\n",
       "        vertical-align: top;\n",
       "    }\n",
       "\n",
       "    .dataframe thead th {\n",
       "        text-align: right;\n",
       "    }\n",
       "</style>\n",
       "<table border=\"1\" class=\"dataframe\">\n",
       "  <thead>\n",
       "    <tr style=\"text-align: right;\">\n",
       "      <th></th>\n",
       "      <th>Pregnancies</th>\n",
       "      <th>Glucose</th>\n",
       "      <th>Blood Pressure</th>\n",
       "      <th>Skin Thickness</th>\n",
       "      <th>Insulin</th>\n",
       "      <th>BMI</th>\n",
       "      <th>DiabetesPedigreeFunction</th>\n",
       "      <th>Age</th>\n",
       "      <th>Diabetes</th>\n",
       "    </tr>\n",
       "  </thead>\n",
       "  <tbody>\n",
       "    <tr>\n",
       "      <th>0</th>\n",
       "      <td>1</td>\n",
       "      <td>85</td>\n",
       "      <td>66</td>\n",
       "      <td>29</td>\n",
       "      <td>0</td>\n",
       "      <td>26.6</td>\n",
       "      <td>0.351</td>\n",
       "      <td>31</td>\n",
       "      <td>0</td>\n",
       "    </tr>\n",
       "    <tr>\n",
       "      <th>1</th>\n",
       "      <td>8</td>\n",
       "      <td>183</td>\n",
       "      <td>64</td>\n",
       "      <td>0</td>\n",
       "      <td>0</td>\n",
       "      <td>23.3</td>\n",
       "      <td>0.672</td>\n",
       "      <td>32</td>\n",
       "      <td>1</td>\n",
       "    </tr>\n",
       "    <tr>\n",
       "      <th>2</th>\n",
       "      <td>1</td>\n",
       "      <td>89</td>\n",
       "      <td>66</td>\n",
       "      <td>23</td>\n",
       "      <td>94</td>\n",
       "      <td>28.1</td>\n",
       "      <td>0.167</td>\n",
       "      <td>21</td>\n",
       "      <td>0</td>\n",
       "    </tr>\n",
       "    <tr>\n",
       "      <th>3</th>\n",
       "      <td>0</td>\n",
       "      <td>137</td>\n",
       "      <td>40</td>\n",
       "      <td>35</td>\n",
       "      <td>168</td>\n",
       "      <td>43.1</td>\n",
       "      <td>2.288</td>\n",
       "      <td>33</td>\n",
       "      <td>1</td>\n",
       "    </tr>\n",
       "    <tr>\n",
       "      <th>4</th>\n",
       "      <td>5</td>\n",
       "      <td>116</td>\n",
       "      <td>74</td>\n",
       "      <td>0</td>\n",
       "      <td>0</td>\n",
       "      <td>25.6</td>\n",
       "      <td>0.201</td>\n",
       "      <td>30</td>\n",
       "      <td>0</td>\n",
       "    </tr>\n",
       "  </tbody>\n",
       "</table>\n",
       "</div>"
      ],
      "text/plain": [
       "   Pregnancies  Glucose  Blood Pressure  Skin Thickness  Insulin   BMI  \\\n",
       "0            1       85              66              29        0  26.6   \n",
       "1            8      183              64               0        0  23.3   \n",
       "2            1       89              66              23       94  28.1   \n",
       "3            0      137              40              35      168  43.1   \n",
       "4            5      116              74               0        0  25.6   \n",
       "\n",
       "   DiabetesPedigreeFunction  Age   Diabetes  \n",
       "0                     0.351    31         0  \n",
       "1                     0.672    32         1  \n",
       "2                     0.167    21         0  \n",
       "3                     2.288    33         1  \n",
       "4                     0.201    30         0  "
      ]
     },
     "execution_count": 3,
     "metadata": {},
     "output_type": "execute_result"
    }
   ],
   "source": [
    "d.head()"
   ]
  },
  {
   "cell_type": "code",
   "execution_count": 4,
   "metadata": {},
   "outputs": [
    {
     "name": "stdout",
     "output_type": "stream",
     "text": [
      "     Pregnancies  Glucose  Blood Pressure  Skin Thickness  Insulin   BMI  \\\n",
      "0              1       85              66              29        0  26.6   \n",
      "1              8      183              64               0        0  23.3   \n",
      "2              1       89              66              23       94  28.1   \n",
      "3              0      137              40              35      168  43.1   \n",
      "4              5      116              74               0        0  25.6   \n",
      "5              3       78              50              32       88  31.0   \n",
      "6             10      115               0               0        0  35.3   \n",
      "7              2      197              70              45      543  30.5   \n",
      "8              8      125              96               0        0   0.0   \n",
      "9              4      110              92               0        0  37.6   \n",
      "10            10      168              74               0        0  38.0   \n",
      "11            10      139              80               0        0  27.1   \n",
      "12             1      189              60              23      846  30.1   \n",
      "13             5      166              72              19      175  25.8   \n",
      "14             7      100               0               0        0  30.0   \n",
      "15             0      118              84              47      230  45.8   \n",
      "16             7      107              74               0        0  29.6   \n",
      "17             1      103              30              38       83  43.3   \n",
      "18             1      115              70              30       96  34.6   \n",
      "19             3      126              88              41      235  39.3   \n",
      "20             8       99              84               0        0  35.4   \n",
      "21             7      196              90               0        0  39.8   \n",
      "22             9      119              80              35        0  29.0   \n",
      "23            11      143              94              33      146  36.6   \n",
      "24            10      125              70              26      115  31.1   \n",
      "25             7      147              76               0        0  39.4   \n",
      "26             1       97              66              15      140  23.2   \n",
      "27            13      145              82              19      110  22.2   \n",
      "28             5      117              92               0        0  34.1   \n",
      "29             5      109              75              26        0  36.0   \n",
      "..           ...      ...             ...             ...      ...   ...   \n",
      "737            2       99              60              17      160  36.6   \n",
      "738            1      102              74               0        0  39.5   \n",
      "739           11      120              80              37      150  42.3   \n",
      "740            3      102              44              20       94  30.8   \n",
      "741            1      109              58              18      116  28.5   \n",
      "742            9      140              94               0        0  32.7   \n",
      "743           13      153              88              37      140  40.6   \n",
      "744           12      100              84              33      105  30.0   \n",
      "745            1      147              94              41        0  49.3   \n",
      "746            1       81              74              41       57  46.3   \n",
      "747            3      187              70              22      200  36.4   \n",
      "748            6      162              62               0        0  24.3   \n",
      "749            4      136              70               0        0  31.2   \n",
      "750            1      121              78              39       74  39.0   \n",
      "751            3      108              62              24        0  26.0   \n",
      "752            0      181              88              44      510  43.3   \n",
      "753            8      154              78              32        0  32.4   \n",
      "754            1      128              88              39      110  36.5   \n",
      "755            7      137              90              41        0  32.0   \n",
      "756            0      123              72               0        0  36.3   \n",
      "757            1      106              76               0        0  37.5   \n",
      "758            6      190              92               0        0  35.5   \n",
      "759            2       88              58              26       16  28.4   \n",
      "760            9      170              74              31        0  44.0   \n",
      "761            9       89              62               0        0  22.5   \n",
      "762           10      101              76              48      180  32.9   \n",
      "763            2      122              70              27        0  36.8   \n",
      "764            5      121              72              23      112  26.2   \n",
      "765            1      126              60               0        0  30.1   \n",
      "766            1       93              70              31        0  30.4   \n",
      "\n",
      "     DiabetesPedigreeFunction  Age   \n",
      "0                       0.351    31  \n",
      "1                       0.672    32  \n",
      "2                       0.167    21  \n",
      "3                       2.288    33  \n",
      "4                       0.201    30  \n",
      "5                       0.248    26  \n",
      "6                       0.134    29  \n",
      "7                       0.158    53  \n",
      "8                       0.232    54  \n",
      "9                       0.191    30  \n",
      "10                      0.537    34  \n",
      "11                      1.441    57  \n",
      "12                      0.398    59  \n",
      "13                      0.587    51  \n",
      "14                      0.484    32  \n",
      "15                      0.551    31  \n",
      "16                      0.254    31  \n",
      "17                      0.183    33  \n",
      "18                      0.529    32  \n",
      "19                      0.704    27  \n",
      "20                      0.388    50  \n",
      "21                      0.451    41  \n",
      "22                      0.263    29  \n",
      "23                      0.254    51  \n",
      "24                      0.205    41  \n",
      "25                      0.257    43  \n",
      "26                      0.487    22  \n",
      "27                      0.245    57  \n",
      "28                      0.337    38  \n",
      "29                      0.546    60  \n",
      "..                        ...   ...  \n",
      "737                     0.453    21  \n",
      "738                     0.293    42  \n",
      "739                     0.785    48  \n",
      "740                     0.400    26  \n",
      "741                     0.219    22  \n",
      "742                     0.734    45  \n",
      "743                     1.174    39  \n",
      "744                     0.488    46  \n",
      "745                     0.358    27  \n",
      "746                     1.096    32  \n",
      "747                     0.408    36  \n",
      "748                     0.178    50  \n",
      "749                     1.182    22  \n",
      "750                     0.261    28  \n",
      "751                     0.223    25  \n",
      "752                     0.222    26  \n",
      "753                     0.443    45  \n",
      "754                     1.057    37  \n",
      "755                     0.391    39  \n",
      "756                     0.258    52  \n",
      "757                     0.197    26  \n",
      "758                     0.278    66  \n",
      "759                     0.766    22  \n",
      "760                     0.403    43  \n",
      "761                     0.142    33  \n",
      "762                     0.171    63  \n",
      "763                     0.340    27  \n",
      "764                     0.245    30  \n",
      "765                     0.349    47  \n",
      "766                     0.315    23  \n",
      "\n",
      "[767 rows x 8 columns]\n",
      "0      0\n",
      "1      1\n",
      "2      0\n",
      "3      1\n",
      "4      0\n",
      "5      1\n",
      "6      0\n",
      "7      1\n",
      "8      1\n",
      "9      0\n",
      "10     1\n",
      "11     0\n",
      "12     1\n",
      "13     1\n",
      "14     1\n",
      "15     1\n",
      "16     1\n",
      "17     0\n",
      "18     1\n",
      "19     0\n",
      "20     0\n",
      "21     1\n",
      "22     1\n",
      "23     1\n",
      "24     1\n",
      "25     1\n",
      "26     0\n",
      "27     0\n",
      "28     0\n",
      "29     0\n",
      "      ..\n",
      "737    0\n",
      "738    1\n",
      "739    1\n",
      "740    0\n",
      "741    0\n",
      "742    1\n",
      "743    0\n",
      "744    0\n",
      "745    1\n",
      "746    0\n",
      "747    1\n",
      "748    1\n",
      "749    1\n",
      "750    0\n",
      "751    0\n",
      "752    1\n",
      "753    1\n",
      "754    1\n",
      "755    0\n",
      "756    1\n",
      "757    0\n",
      "758    1\n",
      "759    0\n",
      "760    1\n",
      "761    0\n",
      "762    0\n",
      "763    0\n",
      "764    0\n",
      "765    1\n",
      "766    0\n",
      "Name: Diabetes, Length: 767, dtype: int64\n"
     ]
    }
   ],
   "source": [
    "x=d.drop(\"Diabetes\",axis=1)\n",
    "y=d[\"Diabetes\"]\n",
    "print(x)\n",
    "print(y)"
   ]
  },
  {
   "cell_type": "code",
   "execution_count": 5,
   "metadata": {},
   "outputs": [],
   "source": [
    "x_train,x_test,y_train,y_test=train_test_split(x,y,test_size=0.25,random_state=42)"
   ]
  },
  {
   "cell_type": "code",
   "execution_count": 6,
   "metadata": {},
   "outputs": [
    {
     "data": {
      "text/plain": [
       "GaussianNB(priors=None)"
      ]
     },
     "execution_count": 6,
     "metadata": {},
     "output_type": "execute_result"
    }
   ],
   "source": [
    "model=GaussianNB()\n",
    "model.fit(x_train,y_train)"
   ]
  },
  {
   "cell_type": "code",
   "execution_count": 7,
   "metadata": {},
   "outputs": [
    {
     "data": {
      "text/plain": [
       "array([0, 0, 0, 0, 0, 0, 0, 0, 0, 0, 1, 0, 0, 0, 1, 1, 0, 0, 0, 1, 0, 0,\n",
       "       0, 1, 0, 0, 0, 0, 0, 0, 0, 1, 1, 0, 0, 1, 1, 0, 1, 0, 0, 0, 1, 1,\n",
       "       0, 0, 1, 0, 0, 1, 0, 0, 0, 0, 1, 1, 0, 0, 0, 0, 1, 0, 1, 0, 1, 1,\n",
       "       1, 0, 0, 0, 0, 0, 0, 1, 0, 1, 0, 0, 0, 1, 1, 0, 1, 0, 0, 1, 0, 0,\n",
       "       0, 0, 0, 0, 0, 0, 0, 0, 0, 1, 1, 0, 1, 0, 1, 1, 1, 0, 0, 0, 0, 0,\n",
       "       0, 0, 0, 1, 1, 0, 1, 0, 1, 1, 0, 0, 1, 0, 0, 1, 1, 1, 0, 0, 0, 0,\n",
       "       0, 1, 1, 0, 0, 1, 0, 0, 0, 1, 0, 1, 0, 0, 0, 1, 0, 0, 0, 1, 0, 0,\n",
       "       0, 0, 0, 1, 0, 0, 0, 0, 0, 0, 1, 1, 1, 0, 0, 1, 1, 0, 0, 1, 1, 0,\n",
       "       0, 0, 0, 0, 0, 0, 0, 0, 0, 0, 0, 0, 0, 0, 0, 1], dtype=int64)"
      ]
     },
     "execution_count": 7,
     "metadata": {},
     "output_type": "execute_result"
    }
   ],
   "source": [
    "y_pred=model.predict(x_test)\n",
    "y_pred"
   ]
  },
  {
   "cell_type": "code",
   "execution_count": 8,
   "metadata": {},
   "outputs": [
    {
     "data": {
      "text/plain": [
       "73.95833333333334"
      ]
     },
     "execution_count": 8,
     "metadata": {},
     "output_type": "execute_result"
    }
   ],
   "source": [
    "accuracy=accuracy_score(y_test,y_pred)*100\n",
    "accuracy"
   ]
  },
  {
   "cell_type": "code",
   "execution_count": 9,
   "metadata": {},
   "outputs": [
    {
     "data": {
      "text/plain": [
       "array([[104,  20],\n",
       "       [ 30,  38]], dtype=int64)"
      ]
     },
     "execution_count": 9,
     "metadata": {},
     "output_type": "execute_result"
    }
   ],
   "source": [
    "cm=confusion_matrix(y_test,y_pred)\n",
    "cm"
   ]
  },
  {
   "cell_type": "code",
   "execution_count": 10,
   "metadata": {},
   "outputs": [
    {
     "data": {
      "text/plain": [
       "1.0"
      ]
     },
     "execution_count": 10,
     "metadata": {},
     "output_type": "execute_result"
    }
   ],
   "source": [
    "from sklearn import metrics \n",
    "test_prediction=model.predict(x_test)\n",
    "metrics.accuracy_score(test_prediction,y_pred)"
   ]
  },
  {
   "cell_type": "code",
   "execution_count": 11,
   "metadata": {},
   "outputs": [
    {
     "name": "stdout",
     "output_type": "stream",
     "text": [
      "             precision    recall  f1-score   support\n",
      "\n",
      "          0       0.78      0.84      0.81       124\n",
      "          1       0.66      0.56      0.60        68\n",
      "\n",
      "avg / total       0.73      0.74      0.73       192\n",
      "\n"
     ]
    }
   ],
   "source": [
    "print(metrics.classification_report(y_test,test_prediction))"
   ]
  },
  {
   "cell_type": "code",
   "execution_count": null,
   "metadata": {},
   "outputs": [],
   "source": []
  }
 ],
 "metadata": {
  "kernelspec": {
   "display_name": "Python 3",
   "language": "python",
   "name": "python3"
  },
  "language_info": {
   "codemirror_mode": {
    "name": "ipython",
    "version": 3
   },
   "file_extension": ".py",
   "mimetype": "text/x-python",
   "name": "python",
   "nbconvert_exporter": "python",
   "pygments_lexer": "ipython3",
   "version": "3.7.0"
  }
 },
 "nbformat": 4,
 "nbformat_minor": 2
}
